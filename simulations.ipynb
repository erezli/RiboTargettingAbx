{
 "cells": [
  {
   "cell_type": "code",
   "execution_count": 1,
   "id": "8e9ecb1d-d037-4595-a212-2472a11ec1c7",
   "metadata": {},
   "outputs": [],
   "source": [
    "%load_ext autoreload\n",
    "%autoreload 2"
   ]
  },
  {
   "cell_type": "code",
   "execution_count": 2,
   "id": "029bd48a-e464-44c2-8828-7327f0d46947",
   "metadata": {},
   "outputs": [],
   "source": [
    "from cell import Cell\n",
    "import numpy\n",
    "import matplotlib.pyplot as plt\n",
    "from tqdm import tqdm"
   ]
  },
  {
   "cell_type": "markdown",
   "id": "fcf76eca-16a7-4d66-a110-7e062d7e9031",
   "metadata": {},
   "source": [
    "## first simulation growth without any abx as an integrity check"
   ]
  },
  {
   "cell_type": "code",
   "execution_count": 3,
   "id": "1beb82db-9f4d-41b9-8b9d-e9ca71e4251b",
   "metadata": {},
   "outputs": [
    {
     "ename": "SyntaxError",
     "evalue": "cannot assign to literal here. Maybe you meant '==' instead of '='? (1114488654.py, line 1)",
     "output_type": "error",
     "traceback": [
      "\u001b[1;36m  Cell \u001b[1;32mIn[3], line 1\u001b[1;36m\u001b[0m\n\u001b[1;33m    param = {\"ribo_min\"=19.3, \"p_in\"=1, \"p_out\"=1, \"k_on\"=1, \"k_off\"=1, \"alpha\"=1, \"beta\"=1, \"gama\"=1, \"abx_env\"=0, \"t_start\"=10000, \"t_end\"=-1}\u001b[0m\n\u001b[1;37m             ^\u001b[0m\n\u001b[1;31mSyntaxError\u001b[0m\u001b[1;31m:\u001b[0m cannot assign to literal here. Maybe you meant '==' instead of '='?\n"
     ]
    }
   ],
   "source": [
    "param = {\"ribo_min\"=19.3, \"p_in\"=1, \"p_out\"=1, \"k_on\"=1, \"k_off\"=1, \"alpha\"=1, \"beta\"=1, \"gama\"=1, \"abx_env\"=0, \"t_start\"=10000, \"t_end\"=-1}"
   ]
  },
  {
   "cell_type": "code",
   "execution_count": null,
   "id": "ab40095b-2758-44d5-bdad-7d80135d9baa",
   "metadata": {},
   "outputs": [],
   "source": []
  }
 ],
 "metadata": {
  "kernelspec": {
   "display_name": "Python 3 (ipykernel)",
   "language": "python",
   "name": "python3"
  },
  "language_info": {
   "codemirror_mode": {
    "name": "ipython",
    "version": 3
   },
   "file_extension": ".py",
   "mimetype": "text/x-python",
   "name": "python",
   "nbconvert_exporter": "python",
   "pygments_lexer": "ipython3",
   "version": "3.11.9"
  }
 },
 "nbformat": 4,
 "nbformat_minor": 5
}
